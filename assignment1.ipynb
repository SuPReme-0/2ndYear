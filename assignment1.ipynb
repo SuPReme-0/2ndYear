{
  "nbformat": 4,
  "nbformat_minor": 0,
  "metadata": {
    "colab": {
      "provenance": [],
      "authorship_tag": "ABX9TyOiJNrBBQgivxxx5bmzPI1l",
      "include_colab_link": true
    },
    "kernelspec": {
      "name": "python3",
      "display_name": "Python 3"
    },
    "language_info": {
      "name": "python"
    }
  },
  "cells": [
    {
      "cell_type": "markdown",
      "metadata": {
        "id": "view-in-github",
        "colab_type": "text"
      },
      "source": [
        "<a href=\"https://colab.research.google.com/github/SuPReme-0/2ndYear/blob/PrePlacement/assignment1.ipynb\" target=\"_parent\"><img src=\"https://colab.research.google.com/assets/colab-badge.svg\" alt=\"Open In Colab\"/></a>"
      ]
    },
    {
      "cell_type": "code",
      "execution_count": null,
      "metadata": {
        "id": "_rFVgGX4Ah99",
        "colab": {
          "base_uri": "https://localhost:8080/"
        },
        "outputId": "e37e7b87-2c80-4e71-a64f-396176fa5c20"
      },
      "outputs": [
        {
          "output_type": "stream",
          "name": "stdout",
          "text": [
            "1 2 3 4 5\n",
            "1 2 3 4 5\n",
            "6\n",
            "1 2 3 4 5 6\n"
          ]
        }
      ],
      "source": [
        "l=list(map(int,input().split()))\n",
        "print(*l)\n",
        "l.append(int(input()))\n",
        "print(*l)"
      ]
    },
    {
      "cell_type": "code",
      "source": [
        "l=list(map(int,input().split()))\n",
        "print(*l)\n",
        "print(\"Largest:\",max(l))"
      ],
      "metadata": {
        "colab": {
          "base_uri": "https://localhost:8080/"
        },
        "id": "ezQsCrECDoSl",
        "outputId": "cf99a640-8062-4b7e-bb20-b146aca3d080"
      },
      "execution_count": null,
      "outputs": [
        {
          "output_type": "stream",
          "name": "stdout",
          "text": [
            "3 4 5 6 2\n",
            "3 4 5 6 2\n",
            "Largest: 6\n"
          ]
        }
      ]
    },
    {
      "cell_type": "code",
      "source": [
        "l=list(map(int,input().split()))\n",
        "print(*l)\n",
        "l=list(set(l))\n",
        "l.sort()\n",
        "print(\"Second Largest:\",*[\"None\" if len(l)<2 else l[-2]])"
      ],
      "metadata": {
        "colab": {
          "base_uri": "https://localhost:8080/"
        },
        "id": "dclWSVSUD18A",
        "outputId": "12923434-af61-4f07-c6de-cbbf8e2e30be"
      },
      "execution_count": null,
      "outputs": [
        {
          "output_type": "stream",
          "name": "stdout",
          "text": [
            "5 6 4 5 \n",
            "5 6 4 5\n",
            "Second Largest: 5\n"
          ]
        }
      ]
    },
    {
      "cell_type": "code",
      "source": [
        "l=list(map(int,input().split()))\n",
        "print(*l)\n",
        "for i in l:\n",
        "  if i==0:\n",
        "    l.pop(l.index(i))\n",
        "    l.append(0)\n",
        "print(\"New list:\",*l)\n"
      ],
      "metadata": {
        "colab": {
          "base_uri": "https://localhost:8080/"
        },
        "id": "hH5AOqHaFX1O",
        "outputId": "28e79394-9e0f-4eb1-9adb-862a56dd811c"
      },
      "execution_count": null,
      "outputs": [
        {
          "output_type": "stream",
          "name": "stdout",
          "text": [
            "4 0 6 0  8 0 9 9 7 0 6 0 0 8\n",
            "4 0 6 0 8 0 9 9 7 0 6 0 0 8\n",
            "New list: 4 6 8 9 9 7 6 8 0 0 0 0 0 0\n"
          ]
        }
      ]
    },
    {
      "cell_type": "code",
      "source": [
        "l=list(map(int,input().split()))\n",
        "print(*l)\n",
        "print(\"Rotated Array:\",l[1:]+l[:1])"
      ],
      "metadata": {
        "colab": {
          "base_uri": "https://localhost:8080/"
        },
        "id": "MNNCLWhFJV6g",
        "outputId": "4f419a17-5207-49a7-8eb9-b4107b5c3edd"
      },
      "execution_count": null,
      "outputs": [
        {
          "output_type": "stream",
          "name": "stdout",
          "text": [
            "3 4 5 6\n",
            "3 4 5 6\n",
            "Rotated Array: [4, 5, 6, 3]\n"
          ]
        }
      ]
    },
    {
      "cell_type": "code",
      "source": [
        "l=list(map(int,input().split()))\n",
        "print(*l)\n",
        "print(*[\"Sorted\" if l==sorted(l) else \"Not Sorted\"])"
      ],
      "metadata": {
        "colab": {
          "base_uri": "https://localhost:8080/"
        },
        "id": "rgmK4_pvLKq3",
        "outputId": "1aff6eb7-2f6e-4d76-bfe9-8fe65fbd0730"
      },
      "execution_count": null,
      "outputs": [
        {
          "output_type": "stream",
          "name": "stdout",
          "text": [
            "5 4 6 3 \n",
            "5 4 6 3\n",
            "Not Sorted\n"
          ]
        }
      ]
    },
    {
      "cell_type": "code",
      "source": [
        "s=input()\n",
        "print(\"Reversed: \",s[::-1])"
      ],
      "metadata": {
        "colab": {
          "base_uri": "https://localhost:8080/"
        },
        "id": "N-hiCkFtLgX2",
        "outputId": "314cf573-03d9-4b46-d81c-953034f518d8"
      },
      "execution_count": null,
      "outputs": [
        {
          "output_type": "stream",
          "name": "stdout",
          "text": [
            "Priyanshu\n",
            "Reversed:  uhsnayirP\n"
          ]
        }
      ]
    },
    {
      "cell_type": "code",
      "source": [
        "s=input()\n",
        "s=s.upper()\n",
        "print(*[\"Palindrome\" if s==s[::-1] else \"Not Palindrome\"])"
      ],
      "metadata": {
        "colab": {
          "base_uri": "https://localhost:8080/"
        },
        "id": "BrcuTApzLzA6",
        "outputId": "e0680c2b-3572-4a55-d7c1-b1294840ee4a"
      },
      "execution_count": null,
      "outputs": [
        {
          "output_type": "stream",
          "name": "stdout",
          "text": [
            "Madam\n",
            "Palindrome\n"
          ]
        }
      ]
    },
    {
      "cell_type": "code",
      "source": [
        "l=list(map(int,input().split()))\n",
        "print(*l)\n",
        "dic={}\n",
        "for i in l:\n",
        "  dic[i]=dic.get(i,0)+1\n",
        "print(*[ '\\n'.join(f\"{x}: {y}\" for x,y in dic.items())])"
      ],
      "metadata": {
        "colab": {
          "base_uri": "https://localhost:8080/"
        },
        "id": "OyExzBSfMZRV",
        "outputId": "ce3e188d-2fcf-4103-ca3e-4cf689fa84d6"
      },
      "execution_count": null,
      "outputs": [
        {
          "output_type": "stream",
          "name": "stdout",
          "text": [
            "4 5 6 7 3 4 5 6 2 3 6 9 8\n",
            "4 5 6 7 3 4 5 6 2 3 6 9 8\n",
            "4: 2\n",
            "5: 2\n",
            "6: 3\n",
            "7: 1\n",
            "3: 2\n",
            "2: 1\n",
            "9: 1\n",
            "8: 1\n"
          ]
        }
      ]
    }
  ]
}